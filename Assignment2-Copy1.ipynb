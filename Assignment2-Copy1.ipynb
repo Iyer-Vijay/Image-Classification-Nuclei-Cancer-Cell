{
 "cells": [
  {
   "cell_type": "markdown",
   "id": "e75ce57c",
   "metadata": {},
   "source": [
    "## Importing the libraries"
   ]
  },
  {
   "cell_type": "code",
   "execution_count": 1,
   "id": "496af009",
   "metadata": {},
   "outputs": [],
   "source": [
    "import warnings\n",
    "warnings.filterwarnings('ignore')\n",
    "\n",
    "import numpy as np\n",
    "from sklearn.model_selection import train_test_split\n",
    "import pandas as pd\n",
    "import cv2\n",
    "import matplotlib.pyplot as plt\n",
    "import seaborn as sns\n",
    "from sklearn.metrics import confusion_matrix,classification_report\n",
    "\n",
    "import tensorflow as tf\n",
    "from tensorflow import keras\n",
    "\n",
    "from tensorflow.keras.preprocessing.image import ImageDataGenerator\n",
    "from tensorflow.keras.callbacks import EarlyStopping"
   ]
  },
  {
   "cell_type": "markdown",
   "id": "c3dbcd27",
   "metadata": {},
   "source": [
    "## Importing Libraries"
   ]
  },
  {
   "cell_type": "code",
   "execution_count": 2,
   "id": "fd686ae4",
   "metadata": {},
   "outputs": [],
   "source": [
    "main_df = pd.read_csv(\"data_labels_mainData.csv\")"
   ]
  },
  {
   "cell_type": "code",
   "execution_count": 3,
   "id": "8b3155ce",
   "metadata": {},
   "outputs": [
    {
     "data": {
      "text/html": [
       "<div>\n",
       "<style scoped>\n",
       "    .dataframe tbody tr th:only-of-type {\n",
       "        vertical-align: middle;\n",
       "    }\n",
       "\n",
       "    .dataframe tbody tr th {\n",
       "        vertical-align: top;\n",
       "    }\n",
       "\n",
       "    .dataframe thead th {\n",
       "        text-align: right;\n",
       "    }\n",
       "</style>\n",
       "<table border=\"1\" class=\"dataframe\">\n",
       "  <thead>\n",
       "    <tr style=\"text-align: right;\">\n",
       "      <th></th>\n",
       "      <th>InstanceID</th>\n",
       "      <th>patientID</th>\n",
       "      <th>ImageName</th>\n",
       "      <th>cellTypeName</th>\n",
       "      <th>cellType</th>\n",
       "      <th>isCancerous</th>\n",
       "    </tr>\n",
       "  </thead>\n",
       "  <tbody>\n",
       "    <tr>\n",
       "      <th>0</th>\n",
       "      <td>22405</td>\n",
       "      <td>1</td>\n",
       "      <td>22405.png</td>\n",
       "      <td>fibroblast</td>\n",
       "      <td>0</td>\n",
       "      <td>0</td>\n",
       "    </tr>\n",
       "    <tr>\n",
       "      <th>1</th>\n",
       "      <td>22406</td>\n",
       "      <td>1</td>\n",
       "      <td>22406.png</td>\n",
       "      <td>fibroblast</td>\n",
       "      <td>0</td>\n",
       "      <td>0</td>\n",
       "    </tr>\n",
       "    <tr>\n",
       "      <th>2</th>\n",
       "      <td>22407</td>\n",
       "      <td>1</td>\n",
       "      <td>22407.png</td>\n",
       "      <td>fibroblast</td>\n",
       "      <td>0</td>\n",
       "      <td>0</td>\n",
       "    </tr>\n",
       "    <tr>\n",
       "      <th>3</th>\n",
       "      <td>22408</td>\n",
       "      <td>1</td>\n",
       "      <td>22408.png</td>\n",
       "      <td>fibroblast</td>\n",
       "      <td>0</td>\n",
       "      <td>0</td>\n",
       "    </tr>\n",
       "    <tr>\n",
       "      <th>4</th>\n",
       "      <td>22409</td>\n",
       "      <td>1</td>\n",
       "      <td>22409.png</td>\n",
       "      <td>fibroblast</td>\n",
       "      <td>0</td>\n",
       "      <td>0</td>\n",
       "    </tr>\n",
       "  </tbody>\n",
       "</table>\n",
       "</div>"
      ],
      "text/plain": [
       "   InstanceID  patientID  ImageName cellTypeName  cellType  isCancerous\n",
       "0       22405          1  22405.png   fibroblast         0            0\n",
       "1       22406          1  22406.png   fibroblast         0            0\n",
       "2       22407          1  22407.png   fibroblast         0            0\n",
       "3       22408          1  22408.png   fibroblast         0            0\n",
       "4       22409          1  22409.png   fibroblast         0            0"
      ]
     },
     "execution_count": 3,
     "metadata": {},
     "output_type": "execute_result"
    }
   ],
   "source": [
    "main_df.head()"
   ]
  },
  {
   "cell_type": "markdown",
   "id": "bf2bf88f",
   "metadata": {},
   "source": [
    "## Showing image of each cell type"
   ]
  },
  {
   "cell_type": "code",
   "execution_count": 4,
   "id": "8aae6322",
   "metadata": {},
   "outputs": [],
   "source": [
    "def show_images(df):\n",
    "    explore_df = df.groupby(\"cellTypeName\").first()\n",
    "    \n",
    "    image_list = []\n",
    "    image_names = []\n",
    "    for ind, row in explore_df.iterrows():\n",
    "        img = cv2.imread(\"patch_images/\"+row[\"ImageName\"])\n",
    "        image_list.append(img)\n",
    "        image_names.append(ind)\n",
    "    \n",
    "    fig = plt.figure(figsize=(10, 10))\n",
    "    rows = 2\n",
    "    columns = 2\n",
    "    axis_list = []\n",
    "    for i in range(explore_df.shape[0]):\n",
    "        axis_list.append(plt.subplot(1,explore_df.shape[0],i+1))\n",
    "                     \n",
    "    for i,ax in enumerate(axis_list):\n",
    "        ax.imshow(image_list[i])\n",
    "        ax.set_title(image_names[i])"
   ]
  },
  {
   "cell_type": "code",
   "execution_count": 5,
   "id": "81b919c3",
   "metadata": {},
   "outputs": [
    {
     "data": {
      "image/png": "[encoded data removed]",
      "text/plain": [
       "<Figure size 720x720 with 4 Axes>"
      ]
     },
     "metadata": {
      "needs_background": "light"
     },
     "output_type": "display_data"
    }
   ],
   "source": [
    "show_images(main_df)"
   ]
  },
  {
   "cell_type": "code",
   "execution_count": 6,
   "id": "099b9728",
   "metadata": {},
   "outputs": [],
   "source": [
    "def show_multiple_images(df, cellType):\n",
    "    df = df[df[\"cellTypeName\"] == cellType]\n",
    "    explore_df = df.sample(5)\n",
    "    \n",
    "    image_list = []\n",
    "    for ind, row in explore_df.iterrows():\n",
    "        img = cv2.imread(\"patch_images/\"+row[\"ImageName\"])\n",
    "        image_list.append(img)\n",
    "    \n",
    "    fig = plt.figure(figsize=(10, 10))\n",
    "    axis_list = []\n",
    "    for i in range(explore_df.shape[0]):\n",
    "        axis_list.append(plt.subplot(1,explore_df.shape[0],i+1))\n",
    "                     \n",
    "    for i,ax in enumerate(axis_list):\n",
    "        ax.imshow(image_list[i])\n",
    "        ax.set_title(val)"
   ]
  },
  {
   "cell_type": "code",
   "execution_count": 7,
   "id": "e22019c1",
   "metadata": {},
   "outputs": [
    {
     "data": {
      "image/png": "[encoded data removed]",
      "text/plain": [
       "<Figure size 720x720 with 5 Axes>"
      ]
     },
     "metadata": {
      "needs_background": "light"
     },
     "output_type": "display_data"
    },
    {
     "data": {
      "image/png": "[encoded data removed]",
      "text/plain": [
       "<Figure size 720x720 with 5 Axes>"
      ]
     },
     "metadata": {
      "needs_background": "light"
     },
     "output_type": "display_data"
    },
    {
     "data": {
      "image/png": "[encoded data removed]",
      "text/plain": [
       "<Figure size 720x720 with 5 Axes>"
      ]
     },
     "metadata": {
      "needs_background": "light"
     },
     "output_type": "display_data"
    },
    {
     "data": {
      "image/png": "[encoded data removed]",
      "text/plain": [
       "<Figure size 720x720 with 5 Axes>"
      ]
     },
     "metadata": {
      "needs_background": "light"
     },
     "output_type": "display_data"
    }
   ],
   "source": [
    "for val in main_df[\"cellTypeName\"].unique():\n",
    "    show_multiple_images(main_df, val)"
   ]
  },
  {
   "cell_type": "markdown",
   "id": "1a220787",
   "metadata": {},
   "source": [
    "Above image plot shows that - \n",
    "* For each cell type, there are representations of image. This would prove a crucial factor when developing the deep learning model, as the model has to learn from each representations of cell type."
   ]
  },
  {
   "cell_type": "code",
   "execution_count": 8,
   "id": "a992e50f",
   "metadata": {},
   "outputs": [
    {
     "name": "stdout",
     "output_type": "stream",
     "text": [
      "Number of images for each cell type:\n"
     ]
    },
    {
     "data": {
      "image/png": "[encoded data removed]",
      "text/plain": [
       "<Figure size 432x288 with 1 Axes>"
      ]
     },
     "metadata": {
      "needs_background": "light"
     },
     "output_type": "display_data"
    }
   ],
   "source": [
    "print(\"Number of images for each cell type:\")\n",
    "\n",
    "ax = sns.barplot(x=main_df[\"cellTypeName\"].value_counts().index, y=main_df[\"cellTypeName\"].value_counts().values, data=main_df)"
   ]
  },
  {
   "cell_type": "markdown",
   "id": "1fbb2363",
   "metadata": {},
   "source": [
    "The above bar plot, shows that the image classification model might do well for the epithelial cell type, as it contains close to 4000 images, double of fibroblast and others cell type."
   ]
  },
  {
   "cell_type": "markdown",
   "id": "c738adbc",
   "metadata": {},
   "source": [
    "Since this task, is to identify the images as cell type, we can remove the column IsCancerous, InstanceID and the patientID. But we can keep the patientid , because there are multiple records for one single patient Id. We can use this to stratify the train test split, making the split evenly distributed."
   ]
  },
  {
   "cell_type": "code",
   "execution_count": 9,
   "id": "2e49f51d",
   "metadata": {},
   "outputs": [],
   "source": [
    "main_df.drop(columns = [\"isCancerous\", \"InstanceID\"], inplace=True)"
   ]
  },
  {
   "cell_type": "code",
   "execution_count": 10,
   "id": "c4a20662",
   "metadata": {},
   "outputs": [
    {
     "data": {
      "text/html": [
       "<div>\n",
       "<style scoped>\n",
       "    .dataframe tbody tr th:only-of-type {\n",
       "        vertical-align: middle;\n",
       "    }\n",
       "\n",
       "    .dataframe tbody tr th {\n",
       "        vertical-align: top;\n",
       "    }\n",
       "\n",
       "    .dataframe thead th {\n",
       "        text-align: right;\n",
       "    }\n",
       "</style>\n",
       "<table border=\"1\" class=\"dataframe\">\n",
       "  <thead>\n",
       "    <tr style=\"text-align: right;\">\n",
       "      <th></th>\n",
       "      <th>patientID</th>\n",
       "      <th>ImageName</th>\n",
       "      <th>cellTypeName</th>\n",
       "      <th>cellType</th>\n",
       "    </tr>\n",
       "  </thead>\n",
       "  <tbody>\n",
       "    <tr>\n",
       "      <th>0</th>\n",
       "      <td>1</td>\n",
       "      <td>22405.png</td>\n",
       "      <td>fibroblast</td>\n",
       "      <td>0</td>\n",
       "    </tr>\n",
       "    <tr>\n",
       "      <th>1</th>\n",
       "      <td>1</td>\n",
       "      <td>22406.png</td>\n",
       "      <td>fibroblast</td>\n",
       "      <td>0</td>\n",
       "    </tr>\n",
       "    <tr>\n",
       "      <th>2</th>\n",
       "      <td>1</td>\n",
       "      <td>22407.png</td>\n",
       "      <td>fibroblast</td>\n",
       "      <td>0</td>\n",
       "    </tr>\n",
       "    <tr>\n",
       "      <th>3</th>\n",
       "      <td>1</td>\n",
       "      <td>22408.png</td>\n",
       "      <td>fibroblast</td>\n",
       "      <td>0</td>\n",
       "    </tr>\n",
       "    <tr>\n",
       "      <th>4</th>\n",
       "      <td>1</td>\n",
       "      <td>22409.png</td>\n",
       "      <td>fibroblast</td>\n",
       "      <td>0</td>\n",
       "    </tr>\n",
       "  </tbody>\n",
       "</table>\n",
       "</div>"
      ],
      "text/plain": [
       "   patientID  ImageName cellTypeName  cellType\n",
       "0          1  22405.png   fibroblast         0\n",
       "1          1  22406.png   fibroblast         0\n",
       "2          1  22407.png   fibroblast         0\n",
       "3          1  22408.png   fibroblast         0\n",
       "4          1  22409.png   fibroblast         0"
      ]
     },
     "execution_count": 10,
     "metadata": {},
     "output_type": "execute_result"
    }
   ],
   "source": [
    "main_df.head()"
   ]
  },
  {
   "cell_type": "code",
   "execution_count": 11,
   "id": "568875ef",
   "metadata": {},
   "outputs": [
    {
     "data": {
      "text/html": [
       "<div>\n",
       "<style scoped>\n",
       "    .dataframe tbody tr th:only-of-type {\n",
       "        vertical-align: middle;\n",
       "    }\n",
       "\n",
       "    .dataframe tbody tr th {\n",
       "        vertical-align: top;\n",
       "    }\n",
       "\n",
       "    .dataframe thead th {\n",
       "        text-align: right;\n",
       "    }\n",
       "</style>\n",
       "<table border=\"1\" class=\"dataframe\">\n",
       "  <thead>\n",
       "    <tr style=\"text-align: right;\">\n",
       "      <th></th>\n",
       "      <th>patientID</th>\n",
       "      <th>ImageName</th>\n",
       "      <th>cellType</th>\n",
       "    </tr>\n",
       "    <tr>\n",
       "      <th>cellTypeName</th>\n",
       "      <th></th>\n",
       "      <th></th>\n",
       "      <th></th>\n",
       "    </tr>\n",
       "  </thead>\n",
       "  <tbody>\n",
       "    <tr>\n",
       "      <th>epithelial</th>\n",
       "      <td>5</td>\n",
       "      <td>276.png</td>\n",
       "      <td>2</td>\n",
       "    </tr>\n",
       "    <tr>\n",
       "      <th>fibroblast</th>\n",
       "      <td>1</td>\n",
       "      <td>22405.png</td>\n",
       "      <td>0</td>\n",
       "    </tr>\n",
       "    <tr>\n",
       "      <th>inflammatory</th>\n",
       "      <td>1</td>\n",
       "      <td>22417.png</td>\n",
       "      <td>1</td>\n",
       "    </tr>\n",
       "    <tr>\n",
       "      <th>others</th>\n",
       "      <td>1</td>\n",
       "      <td>22423.png</td>\n",
       "      <td>3</td>\n",
       "    </tr>\n",
       "  </tbody>\n",
       "</table>\n",
       "</div>"
      ],
      "text/plain": [
       "              patientID  ImageName  cellType\n",
       "cellTypeName                                \n",
       "epithelial            5    276.png         2\n",
       "fibroblast            1  22405.png         0\n",
       "inflammatory          1  22417.png         1\n",
       "others                1  22423.png         3"
      ]
     },
     "execution_count": 11,
     "metadata": {},
     "output_type": "execute_result"
    }
   ],
   "source": [
    "main_df.groupby(\"cellTypeName\").first()"
   ]
  },
  {
   "cell_type": "markdown",
   "id": "373dfcc0",
   "metadata": {},
   "source": [
    "As per the above table, \"Fibroblast\" is represented as 0, \"Inflammatory\" as 1, \"Epithelial\" as 2 and \"others\" as 3. Since we have cellType, there is no need for cellTypeName"
   ]
  },
  {
   "cell_type": "code",
   "execution_count": 12,
   "id": "47ea37e6",
   "metadata": {},
   "outputs": [],
   "source": [
    "main_df.drop(columns = [\"cellTypeName\"], inplace = True)"
   ]
  },
  {
   "cell_type": "code",
   "execution_count": 13,
   "id": "2947ac2d",
   "metadata": {},
   "outputs": [
    {
     "data": {
      "text/html": [
       "<div>\n",
       "<style scoped>\n",
       "    .dataframe tbody tr th:only-of-type {\n",
       "        vertical-align: middle;\n",
       "    }\n",
       "\n",
       "    .dataframe tbody tr th {\n",
       "        vertical-align: top;\n",
       "    }\n",
       "\n",
       "    .dataframe thead th {\n",
       "        text-align: right;\n",
       "    }\n",
       "</style>\n",
       "<table border=\"1\" class=\"dataframe\">\n",
       "  <thead>\n",
       "    <tr style=\"text-align: right;\">\n",
       "      <th></th>\n",
       "      <th>patientID</th>\n",
       "      <th>ImageName</th>\n",
       "      <th>cellType</th>\n",
       "    </tr>\n",
       "  </thead>\n",
       "  <tbody>\n",
       "    <tr>\n",
       "      <th>0</th>\n",
       "      <td>1</td>\n",
       "      <td>22405.png</td>\n",
       "      <td>0</td>\n",
       "    </tr>\n",
       "    <tr>\n",
       "      <th>1</th>\n",
       "      <td>1</td>\n",
       "      <td>22406.png</td>\n",
       "      <td>0</td>\n",
       "    </tr>\n",
       "    <tr>\n",
       "      <th>2</th>\n",
       "      <td>1</td>\n",
       "      <td>22407.png</td>\n",
       "      <td>0</td>\n",
       "    </tr>\n",
       "    <tr>\n",
       "      <th>3</th>\n",
       "      <td>1</td>\n",
       "      <td>22408.png</td>\n",
       "      <td>0</td>\n",
       "    </tr>\n",
       "    <tr>\n",
       "      <th>4</th>\n",
       "      <td>1</td>\n",
       "      <td>22409.png</td>\n",
       "      <td>0</td>\n",
       "    </tr>\n",
       "  </tbody>\n",
       "</table>\n",
       "</div>"
      ],
      "text/plain": [
       "   patientID  ImageName  cellType\n",
       "0          1  22405.png         0\n",
       "1          1  22406.png         0\n",
       "2          1  22407.png         0\n",
       "3          1  22408.png         0\n",
       "4          1  22409.png         0"
      ]
     },
     "execution_count": 13,
     "metadata": {},
     "output_type": "execute_result"
    }
   ],
   "source": [
    "main_df.head()"
   ]
  },
  {
   "cell_type": "code",
   "execution_count": 14,
   "id": "6646fe54",
   "metadata": {},
   "outputs": [],
   "source": [
    "def add_path(image):\n",
    "    return \"./patch_images/\"+image\n",
    "\n",
    "main_df[\"ImageName\"] = main_df[\"ImageName\"].apply(add_path)"
   ]
  },
  {
   "cell_type": "code",
   "execution_count": 15,
   "id": "aae213a8",
   "metadata": {},
   "outputs": [
    {
     "data": {
      "text/html": [
       "<div>\n",
       "<style scoped>\n",
       "    .dataframe tbody tr th:only-of-type {\n",
       "        vertical-align: middle;\n",
       "    }\n",
       "\n",
       "    .dataframe tbody tr th {\n",
       "        vertical-align: top;\n",
       "    }\n",
       "\n",
       "    .dataframe thead th {\n",
       "        text-align: right;\n",
       "    }\n",
       "</style>\n",
       "<table border=\"1\" class=\"dataframe\">\n",
       "  <thead>\n",
       "    <tr style=\"text-align: right;\">\n",
       "      <th></th>\n",
       "      <th>patientID</th>\n",
       "      <th>ImageName</th>\n",
       "      <th>cellType</th>\n",
       "    </tr>\n",
       "  </thead>\n",
       "  <tbody>\n",
       "    <tr>\n",
       "      <th>0</th>\n",
       "      <td>1</td>\n",
       "      <td>./patch_images/22405.png</td>\n",
       "      <td>0</td>\n",
       "    </tr>\n",
       "    <tr>\n",
       "      <th>1</th>\n",
       "      <td>1</td>\n",
       "      <td>./patch_images/22406.png</td>\n",
       "      <td>0</td>\n",
       "    </tr>\n",
       "    <tr>\n",
       "      <th>2</th>\n",
       "      <td>1</td>\n",
       "      <td>./patch_images/22407.png</td>\n",
       "      <td>0</td>\n",
       "    </tr>\n",
       "    <tr>\n",
       "      <th>3</th>\n",
       "      <td>1</td>\n",
       "      <td>./patch_images/22408.png</td>\n",
       "      <td>0</td>\n",
       "    </tr>\n",
       "    <tr>\n",
       "      <th>4</th>\n",
       "      <td>1</td>\n",
       "      <td>./patch_images/22409.png</td>\n",
       "      <td>0</td>\n",
       "    </tr>\n",
       "  </tbody>\n",
       "</table>\n",
       "</div>"
      ],
      "text/plain": [
       "   patientID                 ImageName  cellType\n",
       "0          1  ./patch_images/22405.png         0\n",
       "1          1  ./patch_images/22406.png         0\n",
       "2          1  ./patch_images/22407.png         0\n",
       "3          1  ./patch_images/22408.png         0\n",
       "4          1  ./patch_images/22409.png         0"
      ]
     },
     "execution_count": 15,
     "metadata": {},
     "output_type": "execute_result"
    }
   ],
   "source": [
    "main_df.head()"
   ]
  },
  {
   "cell_type": "code",
   "execution_count": 16,
   "id": "722263a1",
   "metadata": {},
   "outputs": [
    {
     "data": {
      "text/plain": [
       "(9896, 3)"
      ]
     },
     "execution_count": 16,
     "metadata": {},
     "output_type": "execute_result"
    }
   ],
   "source": [
    "main_df.shape"
   ]
  },
  {
   "cell_type": "markdown",
   "id": "6dc35f0e",
   "metadata": {},
   "source": [
    "Let's split the dataset into train, valid and test. For the training purpose, we will divide the data into 20% for test and 25% validation data out of total."
   ]
  },
  {
   "cell_type": "code",
   "execution_count": 20,
   "id": "db4c63f6",
   "metadata": {},
   "outputs": [
    {
     "name": "stdout",
     "output_type": "stream",
     "text": [
      "Train data : 5937, Val Data: 1979, Test Data: 1980\n"
     ]
    }
   ],
   "source": [
    "train_data, test_data = train_test_split(main_df, test_size=0.20, random_state=9, stratify = main_df.patientID)\n",
    "train_data, val_data = train_test_split(train_data, test_size=0.25, random_state=9, stratify = train_data.patientID)\n",
    "\n",
    "train_data.drop(columns = [\"patientID\"], inplace=True)\n",
    "test_data.drop(columns = [\"patientID\"], inplace=True)\n",
    "val_data.drop(columns = [\"patientID\"], inplace=True)\n",
    "\n",
    "print(\"Train data : {}, Val Data: {}, Test Data: {}\".format(train_data.shape[0], val_data.shape[0], test_data.shape[0]))"
   ]
  },
  {
   "cell_type": "code",
   "execution_count": 21,
   "id": "8ab0de74",
   "metadata": {},
   "outputs": [
    {
     "data": {
      "image/png": "[encoded data removed]",
      "text/plain": [
       "<Figure size 1440x1440 with 1 Axes>"
      ]
     },
     "metadata": {
      "needs_background": "light"
     },
     "output_type": "display_data"
    }
   ],
   "source": [
    "plt.figure(figsize=(20,20))\n",
    "\n",
    "for i, col in enumerate(train_data.columns):\n",
    "\n",
    "    if col != 'ImageName':\n",
    "        plt.subplot(10,11,i+1)\n",
    "        if train_data[col].dtypes != np.int64:\n",
    "            plt.bar(train_data[col].value_counts().index.astype(str), \n",
    "                    train_data[col].value_counts().values/np.sum(train_data[col].value_counts().values), \n",
    "                    alpha=0.3, color='r')\n",
    "            plt.bar(test_data[col].value_counts().index.astype(str), \n",
    "                    test_data[col].value_counts().values/np.sum(test_data[col].value_counts().values), \n",
    "                    alpha=0.3, color='b')\n",
    "        else:\n",
    "            plt.hist(train_data[col], alpha=0.3, color='r', density=True)\n",
    "            plt.hist(test_data[col], alpha=0.3, color='b', density=True)\n",
    "\n",
    "        plt.title(col)\n",
    "        plt.xticks(rotation='vertical')"
   ]
  },
  {
   "cell_type": "markdown",
   "id": "84f0389d",
   "metadata": {},
   "source": [
    "The above distribution of cell Type in each train, test and validatio data proves to be pretty much the same, indicating the right split ratio."
   ]
  },
  {
   "cell_type": "markdown",
   "id": "2163c8d2",
   "metadata": {},
   "source": [
    "## Plot for showing the distribution of Accuracy and Loss on the train and validation data over number of epochs"
   ]
  },
  {
   "cell_type": "code",
   "execution_count": 22,
   "id": "5f778d4c",
   "metadata": {},
   "outputs": [],
   "source": [
    "def plot_learning_curve(train_loss, val_loss, train_metric, val_metric, metric_name='Accuracy'):\n",
    "    plt.figure(figsize=(10,5))\n",
    "    \n",
    "    plt.subplot(1,2,1)\n",
    "    plt.plot(train_loss, 'r--')\n",
    "    plt.plot(val_loss, 'b--')\n",
    "    plt.xlabel(\"epochs\")\n",
    "    plt.ylabel(\"Loss\")\n",
    "    plt.legend(['train', 'val'], loc='upper left')\n",
    "\n",
    "    plt.subplot(1,2,2)\n",
    "    plt.plot(train_metric, 'r--')\n",
    "    plt.plot(val_metric, 'b--')\n",
    "    plt.xlabel(\"epochs\")\n",
    "    plt.ylabel(metric_name)\n",
    "    plt.legend(['train', 'val'], loc='upper left')\n",
    "\n",
    "    plt.show()"
   ]
  },
  {
   "cell_type": "markdown",
   "id": "f702bd4b",
   "metadata": {},
   "source": [
    "## Generating Confusion Matrix and Classification Report"
   ]
  },
  {
   "cell_type": "code",
   "execution_count": 23,
   "id": "dfba5ab6",
   "metadata": {},
   "outputs": [],
   "source": [
    "def generate_stats_cellType(generator,history):\n",
    "    generator.reset()\n",
    "    Y_pred = history.model.predict_generator(generator)\n",
    "    y_pred= np.argmax(Y_pred, axis=1)\n",
    "    print('Confusion Matrix')\n",
    "    print(confusion_matrix(generator.classes, y_pred))\n",
    "    print('Classification Report')\n",
    "    target_names = ['Fibroblast','Inflammatory','Epithelial', 'others']\n",
    "    print(classification_report(generator.classes, y_pred, target_names=target_names))"
   ]
  },
  {
   "cell_type": "markdown",
   "id": "d7780f3f",
   "metadata": {},
   "source": [
    "## Image Generator for CellType"
   ]
  },
  {
   "cell_type": "code",
   "execution_count": 24,
   "id": "5427712f",
   "metadata": {},
   "outputs": [
    {
     "name": "stdout",
     "output_type": "stream",
     "text": [
      "Found 5937 validated image filenames belonging to 4 classes.\n",
      "Found 1979 validated image filenames belonging to 4 classes.\n",
      "Found 1980 validated image filenames belonging to 4 classes.\n"
     ]
    }
   ],
   "source": [
    "train_data['cellType'] = train_data['cellType'].astype('str')\n",
    "val_data['cellType'] = val_data['cellType'].astype('str')\n",
    "test_data['cellType'] = test_data['cellType'].astype('str')\n",
    "\n",
    "train_datagen = ImageDataGenerator(rescale=1./255, data_format='channels_last')\n",
    "val_datagen = ImageDataGenerator(rescale=1./255, data_format='channels_last')\n",
    "test_datagen = ImageDataGenerator(rescale=1./255, data_format='channels_last')\n",
    "\n",
    "batch_size = 27\n",
    "\n",
    "train_generator = train_datagen.flow_from_dataframe(\n",
    "        dataframe=train_data,\n",
    "        directory='./',\n",
    "        x_col=\"ImageName\",\n",
    "        y_col=\"cellType\",\n",
    "        target_size=(27, 27),\n",
    "        batch_size=batch_size,\n",
    "        class_mode='categorical')\n",
    "\n",
    "validation_generator = val_datagen.flow_from_dataframe(\n",
    "        dataframe=val_data,\n",
    "        directory='./',\n",
    "        x_col=\"ImageName\",\n",
    "        y_col=\"cellType\",\n",
    "        target_size=(27, 27),\n",
    "        batch_size=batch_size,\n",
    "        class_mode='categorical')\n",
    "\n",
    "test_generator = test_datagen.flow_from_dataframe(\n",
    "        dataframe=test_data,\n",
    "        directory='./',\n",
    "        x_col=\"ImageName\",\n",
    "        y_col=\"cellType\",\n",
    "        target_size=(27, 27),\n",
    "        batch_size=batch_size,\n",
    "        class_mode='categorical')"
   ]
  },
  {
   "cell_type": "markdown",
   "id": "02cc5c44",
   "metadata": {},
   "source": [
    "## Setting up basic MLP model "
   ]
  },
  {
   "cell_type": "code",
   "execution_count": null,
   "id": "c65335df",
   "metadata": {},
   "outputs": [],
   "source": [
    "def set_NN_model(INPUT_DIM, HIDDEN_LAYER_DIM, OUTPUT_CLASSES, Activation = \"sigmoid\"):\n",
    "    model = tf.keras.Sequential([\n",
    "        tf.keras.layers.Flatten(input_shape=INPUT_DIM),\n",
    "        tf.keras.layers.Dense(HIDDEN_LAYER_DIM, activation=Activation),\n",
    "        tf.keras.layers.Dense(OUTPUT_CLASSES)\n",
    "    ])\n",
    "    \n",
    "    return model"
   ]
  },
  {
   "cell_type": "code",
   "execution_count": null,
   "id": "5d05fa2b",
   "metadata": {},
   "outputs": [],
   "source": [
    "def compile_model(model, Optimizer = \"SGD\", Metric = 'categorical_accuracy'):\n",
    "    model.compile(optimizer=Optimizer,\n",
    "              loss=tf.keras.losses.CategoricalCrossentropy(from_logits=True),\n",
    "              metrics=[Metric])\n",
    "    return model"
   ]
  },
  {
   "cell_type": "code",
   "execution_count": null,
   "id": "8ea1c3ac",
   "metadata": {},
   "outputs": [],
   "source": [
    "hidden_layer = [256,512,724]\n",
    "input_dimension = (27,27,3)\n",
    "output_dimension = 4\n",
    "model_history_list = []\n",
    "\n",
    "for val in hidden_layer:\n",
    "    print(\"Building MLP for \",val,\" neurons in hidden layer\")\n",
    "    #Building the model\n",
    "    model = set_NN_model(input_dimension, val, output_dimension)\n",
    "    #Compiling the model\n",
    "    model = compile_model(model)\n",
    "    #Print model stats\n",
    "    print(model.summary())\n",
    "    print(tf.keras.utils.plot_model(model, show_shapes=True))\n",
    "    #Using Early Stopping technique to stop if there is no change in validation loss after 5 epochs\n",
    "    monitor=EarlyStopping(monitor='val_loss',min_delta=1e-3,patience=5,verbose=1,restore_best_weights=True)\n",
    "    #Fit the train generator with validation data as validation generator data\n",
    "    history = model.fit_generator(train_generator, validation_data = validation_generator, epochs=50, verbose=0, \n",
    "                                  callbacks = [monitor])\n",
    "    #Plotting the graph for loss for training and validation data for n number of epochs, along with accuracy of the model\n",
    "    plot_learning_curve(history.history['loss'], history.history['val_loss'], \n",
    "                    history.history['categorical_accuracy'], history.history['val_categorical_accuracy'], \n",
    "                    metric_name='Accuracy')\n",
    "    \n",
    "    print(\"Model Evaluation: \", str(model.evaluate(test_generator)))\n",
    "    generate_stats_cellType(test_generator, history)\n",
    "    model_history_list.append(history)\n",
    "    print(\"*** End of training ***\")"
   ]
  },
  {
   "cell_type": "markdown",
   "id": "fa8f8afb",
   "metadata": {},
   "source": [
    "Looking at the above results, hidden layer with 512 neurons is out performing the other hyper parameters slightly. So we will go with the second model in the list of model history."
   ]
  },
  {
   "cell_type": "markdown",
   "id": "47a46afd",
   "metadata": {},
   "source": [
    "Now we will apply the deep learning model on the same dataset using cnn architecture"
   ]
  },
  {
   "cell_type": "code",
   "execution_count": null,
   "id": "6e20bf42",
   "metadata": {},
   "outputs": [],
   "source": [
    "label_names = {'Fibroblast' : 0, 'Inflammatory' : 1, 'Epithelial' : 2, 'others' : 3}"
   ]
  },
  {
   "cell_type": "code",
   "execution_count": null,
   "id": "475e2ed1",
   "metadata": {},
   "outputs": [],
   "source": [
    "# d_inv = {v: k for k, v in label_names.items()}\n",
    "# plt.figure(figsize=(16,4))\n",
    "# batches = 0\n",
    "# for x,y in test_generator:\n",
    "#         batches = batches + 1\n",
    "#         y_hat = model.predict(x, verbose=0)\n",
    "#         x = np.squeeze(x)\n",
    "#         if batches < 5:\n",
    "#             plt.subplot(1,5,batches)\n",
    "#             plt.imshow(x)\n",
    "#             plt.title(\"GT-{}, Pred-{}\".format(d_inv[np.argmax(y[0])], d_inv[np.argmax(y_hat[0])] ))\n",
    "            \n",
    "#         else:\n",
    "#             break\n",
    "        \n",
    "#         plt.axis('off')"
   ]
  },
  {
   "cell_type": "markdown",
   "id": "5d674f11",
   "metadata": {},
   "source": [
    "## Deep Learning Model"
   ]
  },
  {
   "cell_type": "markdown",
   "id": "1178ab01",
   "metadata": {},
   "source": [
    "Since we have created the train, test and validation data generator, we can use the same for the Deep Learning Models as well."
   ]
  },
  {
   "cell_type": "code",
   "execution_count": 25,
   "id": "dd4b5889",
   "metadata": {},
   "outputs": [],
   "source": [
    "OUTPUT_CLASSES = 4"
   ]
  },
  {
   "cell_type": "code",
   "execution_count": 26,
   "id": "1e8abad3",
   "metadata": {},
   "outputs": [],
   "source": [
    "model_VGG_1 = tf.keras.Sequential([\n",
    "    #VGG block 1\n",
    "    tf.keras.layers.Conv2D(32, (3, 3), activation='relu', padding='same', input_shape=(27, 27, 3)),\n",
    "    tf.keras.layers.Conv2D(32, (3, 3), activation='relu', padding='same'),\n",
    "    tf.keras.layers.MaxPooling2D((2, 2)),\n",
    "    \n",
    "    #VGG block 2\n",
    "    tf.keras.layers.Conv2D(64, (3, 3), activation='relu', padding='same'),\n",
    "    tf.keras.layers.Conv2D(64, (3, 3), activation='relu', padding='same'),\n",
    "    tf.keras.layers.MaxPooling2D((2, 2)),\n",
    "    \n",
    "    #VGG block 3\n",
    "    tf.keras.layers.Conv2D(128, (3, 3), activation='relu', padding='same'),\n",
    "    tf.keras.layers.Conv2D(128, (3, 3), activation='relu', padding='same'),\n",
    "    tf.keras.layers.MaxPooling2D((2, 2)),\n",
    "    \n",
    "    tf.keras.layers.Flatten(),\n",
    "    tf.keras.layers.Dense(128, activation='relu'),\n",
    "    tf.keras.layers.Dense(OUTPUT_CLASSES),\n",
    "])"
   ]
  },
  {
   "cell_type": "code",
   "execution_count": 27,
   "id": "90d49b86",
   "metadata": {},
   "outputs": [],
   "source": [
    "model_VGG_1.compile(optimizer='adam',\n",
    "              loss=tf.keras.losses.CategoricalCrossentropy(from_logits=True),\n",
    "              metrics=['categorical_accuracy'])"
   ]
  },
  {
   "cell_type": "code",
   "execution_count": 31,
   "id": "f1ee091e",
   "metadata": {},
   "outputs": [],
   "source": [
    "history_VGG_1 = model_VGG_1.fit_generator(train_generator, validation_data = validation_generator, epochs=25, verbose=0)"
   ]
  },
  {
   "cell_type": "code",
   "execution_count": 32,
   "id": "61392e00",
   "metadata": {},
   "outputs": [
    {
     "data": {
      "image/png": "[encoded data removed]",
      "text/plain": [
       "<Figure size 720x360 with 2 Axes>"
      ]
     },
     "metadata": {
      "needs_background": "light"
     },
     "output_type": "display_data"
    }
   ],
   "source": [
    "plot_learning_curve(history_VGG_1.history['loss'], history_VGG_1.history['val_loss'], \n",
    "                    history_VGG_1.history['categorical_accuracy'], history_VGG_1.history['val_categorical_accuracy'], \n",
    "                    metric_name='Accuracy')"
   ]
  },
  {
   "cell_type": "markdown",
   "id": "61ff54fa",
   "metadata": {},
   "source": [
    "Since the above graph is overfitting, we can use the following technique to reduce the overfitting:\n",
    "1. Regularization values using L2\n",
    "2. Dropout at the last layer\n",
    "3. Learning rate of the model"
   ]
  },
  {
   "cell_type": "code",
   "execution_count": 60,
   "id": "c91cde65",
   "metadata": {},
   "outputs": [],
   "source": [
    "def build_model(reg_lambda, dropout, learning_rate, dense_layer):\n",
    "    model = tf.keras.Sequential([\n",
    "        #VGG block 1\n",
    "        tf.keras.layers.Conv2D(32, (3, 3), activation='relu', padding='same', \n",
    "                               kernel_regularizer=tf.keras.regularizers.l2(reg_lambda), input_shape=(27, 27, 3)),\n",
    "        tf.keras.layers.Conv2D(32, (3, 3), activation='relu', padding='same', \n",
    "                               kernel_regularizer=tf.keras.regularizers.l2(val)),\n",
    "        tf.keras.layers.MaxPooling2D((2, 2)),\n",
    "\n",
    "        #VGG block 2\n",
    "        tf.keras.layers.Conv2D(64, (3, 3), activation='relu', padding='same', \n",
    "                               kernel_regularizer=tf.keras.regularizers.l2(val)),\n",
    "        tf.keras.layers.Conv2D(64, (3, 3), activation='relu', padding='same', \n",
    "                               kernel_regularizer=tf.keras.regularizers.l2(val)),\n",
    "        tf.keras.layers.MaxPooling2D((2, 2)),\n",
    "\n",
    "        #VGG block 3\n",
    "        tf.keras.layers.Conv2D(128, (3, 3), activation='relu', padding='same', \n",
    "                               kernel_regularizer=tf.keras.regularizers.l2(val)),\n",
    "        tf.keras.layers.Conv2D(128, (3, 3), activation='relu', padding='same', \n",
    "                               kernel_regularizer=tf.keras.regularizers.l2(val)),\n",
    "        tf.keras.layers.MaxPooling2D((2, 2)),\n",
    "\n",
    "        tf.keras.layers.Flatten(),\n",
    "        tf.keras.layers.Dense(dense_layer, activation='relu'),\n",
    "        tf.keras.layers.Dropout(dropout),\n",
    "        tf.keras.layers.Dense(OUTPUT_CLASSES),\n",
    "    ])\n",
    "    \n",
    "    model.compile(optimizer=keras.optimizers.Adam(learning_rate),\n",
    "              loss=tf.keras.losses.CategoricalCrossentropy(from_logits=True),\n",
    "              metrics=['categorical_accuracy'])\n",
    "    \n",
    "    model_history = model.fit_generator(train_generator, validation_data = validation_generator, epochs=25, verbose=0)\n",
    "\n",
    "    plot_learning_curve(model_history.history['loss'], model_history.history['val_loss'], \n",
    "                    model_history.history['categorical_accuracy'], model_history.history['val_categorical_accuracy'], \n",
    "                    metric_name='Accuracy')\n",
    "    \n",
    "    print(\"Performance on test data: \", str(model.evaluate(test_generator)))\n",
    "        \n",
    "    return model"
   ]
  },
  {
   "cell_type": "code",
   "execution_count": null,
   "id": "ba825e13",
   "metadata": {},
   "outputs": [
    {
     "name": "stdout",
     "output_type": "stream",
     "text": [
      "Training for reg_lamda = 0.001  ,dropout= 0  ,learning_rate= 0.001  ,Neurons in dense layer= 128\n"
     ]
    },
    {
     "data": {
      "image/png": "[encoded data removed]",
      "text/plain": [
       "<Figure size 720x360 with 2 Axes>"
      ]
     },
     "metadata": {
      "needs_background": "light"
     },
     "output_type": "display_data"
    },
    {
     "name": "stdout",
     "output_type": "stream",
     "text": [
      "74/74 [==============================] - 2s 32ms/step - loss: 0.7139 - categorical_accuracy: 0.7545 0s - loss: 0.7030 - categorical_\n",
      "Performance on test data:  [0.7139028906822205, 0.7545454502105713]\n",
      "*** End of iteration ***\n",
      "\n",
      "Training for reg_lamda = 0.001  ,dropout= 0  ,learning_rate= 0.01  ,Neurons in dense layer= 128\n"
     ]
    }
   ],
   "source": [
    "reg_lambda = [0.001, 0.01, 0.1]\n",
    "dropout = [0,0.2,0.5]\n",
    "learning_rate = [0.001, 0.01, 0.05]\n",
    "dense_layer = [128]\n",
    "\n",
    "for reg in reg_lambda:\n",
    "    for drop in dropout:\n",
    "        for lr in learning_rate:\n",
    "            for dl in dense_layer:\n",
    "                print(\"Training for reg_lamda =\",reg,\" ,dropout=\",drop,\" ,learning_rate=\",lr,\" ,Neurons in dense layer=\",dl)\n",
    "                \n",
    "                build_model(reg, drop, lr, dl)\n",
    "        \n",
    "                print(\"*** End of iteration ***\")\n",
    "            \n",
    "                print()"
   ]
  }
 ],
 "metadata": {
  "kernelspec": {
   "display_name": "Python 3",
   "language": "python",
   "name": "python3"
  },
  "language_info": {
   "codemirror_mode": {
    "name": "ipython",
    "version": 3
   },
   "file_extension": ".py",
   "mimetype": "text/x-python",
   "name": "python",
   "nbconvert_exporter": "python",
   "pygments_lexer": "ipython3",
   "version": "3.8.8"
  }
 },
 "nbformat": 4,
 "nbformat_minor": 5
}
